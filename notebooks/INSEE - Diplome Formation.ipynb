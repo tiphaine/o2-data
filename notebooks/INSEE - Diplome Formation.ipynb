{
 "cells": [
  {
   "cell_type": "code",
   "execution_count": null,
   "metadata": {},
   "outputs": [],
   "source": [
    "import pandas\n",
    "import requests\n",
    "\n",
    "from zipfile import ZipFile\n",
    "from datetime import datetime\n",
    "from io import BytesIO"
   ]
  },
  {
   "cell_type": "code",
   "execution_count": null,
   "metadata": {},
   "outputs": [],
   "source": [
    "insee_data_path = {\n",
    "    2015: {\n",
    "        'met': 'https://www.insee.fr/fr/statistiques/fichier/3564182/base-cc-dipl-formation-2015.zip',\n",
    "        'com': 'https://www.insee.fr/fr/statistiques/fichier/3564182/base-cc-dipl-formation-2015-COM.zip'\n",
    "    },\n",
    "    2014: {\n",
    "        'met': 'https://www.insee.fr/fr/statistiques/fichier/3137418/base-ic-diplomes-formation-2014.zip',\n",
    "        'com': 'https://www.insee.fr/fr/statistiques/fichier/3137418/base-ic-diplomes-formation-2014-com.zip'\n",
    "    },\n",
    "}"
   ]
  },
  {
   "cell_type": "code",
   "execution_count": null,
   "metadata": {},
   "outputs": [],
   "source": [
    "dataset_url = insee_data_path[2015]['met']\n",
    "\n",
    "try:\n",
    "    if file_type in ('zip',):\n",
    "        r = requests.get(dataset_url)\n",
    "        zip_file = ZipFile(BytesIO(r.content))\n",
    "        files = zip_file.namelist()\n",
    "        datafile_name = files[0]\n",
    "        data_file_from_zip = zip_file.read(datafile_name)\n",
    "        data_file = open(datafile_name, 'wb')\n",
    "        data_file.write(data_file_from_zip)\n",
    "        data_file.close()\n",
    "    elif file_type in ('xls', 'xlsx',):\n",
    "        r = requests.get(dataset_url, proxies=proxies)\n",
    "        datafile_name = dataset_url.split('/')[-1]\n",
    "        data_file = open(datafile_name, 'wb')\n",
    "        data_file.write(r.content)\n",
    "        data_file.close()\n",
    "    dataset_df = pd.read_excel(datafile_name, skiprows=4).drop([0])\n",
    "    annee = dataset_url.split('-')[-1].split('.')[0]\n",
    "    dataset_df.columns = [col.replace('en {}'.format(annee), '') for col in dataset_df.columns] \n",
    "except Exception as e:\n",
    "    curl_status_ok = False\n",
    "    error = e"
   ]
  },
  {
   "cell_type": "code",
   "execution_count": null,
   "metadata": {},
   "outputs": [],
   "source": [
    "def check_file_extension(path, extension_types=('xls',)):\n",
    "    extension = path.split('.')[-1]\n",
    "    if extension in extension_types:\n",
    "        return True\n",
    "    else:\n",
    "        return False"
   ]
  },
  {
   "cell_type": "code",
   "execution_count": null,
   "metadata": {},
   "outputs": [],
   "source": [
    "def download_data_to_xls(path, output_dir='data'):\n",
    "    if check_file_extension(path, 'zip'):\n",
    "        r = requests.get(path)\n",
    "        zip_file = ZipFile(BytesIO(r.content))\n",
    "        files = zip_file.namelist()\n",
    "        datafile_name = files[0]\n",
    "        data_file_from_zip = zip_file.read(datafile_name)\n",
    "        output_path = '{}/{}'.format(output_dir, datafile_name)\n",
    "        data_file = open(output_path, 'wb')\n",
    "        data_file.write(data_file_from_zip)\n",
    "        data_file.close()\n",
    "        return output_path"
   ]
  },
  {
   "cell_type": "code",
   "execution_count": null,
   "metadata": {},
   "outputs": [],
   "source": [
    "download_data_to_xls(dataset_url, 'data/insee-diplome-formation')"
   ]
  },
  {
   "cell_type": "markdown",
   "metadata": {},
   "source": [
    "## To do\n",
    "\n",
    "- Utils\n",
    "    - write output path into config file to avoid re-dl\n",
    "    - auto create output subfolders depending on path\n",
    "    - put data path into config file"
   ]
  },
  {
   "cell_type": "code",
   "execution_count": null,
   "metadata": {},
   "outputs": [],
   "source": [
    "dataset_url = insee_data_path[2015]['com']\n",
    "download_data_to_xls(dataset_url, 'data/insee-diplome-formation')"
   ]
  },
  {
   "cell_type": "code",
   "execution_count": null,
   "metadata": {},
   "outputs": [],
   "source": []
  }
 ],
 "metadata": {
  "kernelspec": {
   "display_name": "Python 3",
   "language": "python",
   "name": "python3"
  },
  "language_info": {
   "codemirror_mode": {
    "name": "ipython",
    "version": 3
   },
   "file_extension": ".py",
   "mimetype": "text/x-python",
   "name": "python",
   "nbconvert_exporter": "python",
   "pygments_lexer": "ipython3",
   "version": "3.7.0"
  }
 },
 "nbformat": 4,
 "nbformat_minor": 2
}
